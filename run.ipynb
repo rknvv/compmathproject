{
 "cells": [
  {
   "cell_type": "markdown",
   "id": "abc91da3",
   "metadata": {},
   "source": [
    "# Визуализация:"
   ]
  },
  {
   "cell_type": "code",
   "execution_count": null,
   "id": "720d71a1",
   "metadata": {},
   "outputs": [],
   "source": [
    "from pde_solvers_api.visualize import GrayScottVisualizer"
   ]
  },
  {
   "cell_type": "code",
   "execution_count": null,
   "id": "e0b3f617",
   "metadata": {},
   "outputs": [],
   "source": [
    "URL = \"http://localhost:8000\"\n",
    "visualizer = GrayScottVisualizer(URL)"
   ]
  },
  {
   "cell_type": "code",
   "execution_count": null,
   "id": "976d179c",
   "metadata": {},
   "outputs": [],
   "source": [
    "visualizer.display()"
   ]
  },
  {
   "cell_type": "markdown",
   "id": "515345a8",
   "metadata": {},
   "source": [
    "___\n",
    "# Через API:"
   ]
  },
  {
   "cell_type": "code",
   "execution_count": null,
   "id": "2d96e576",
   "metadata": {},
   "outputs": [],
   "source": [
    "import requests\n",
    "import numpy as np\n",
    "import matplotlib.pyplot as plt\n",
    "\n",
    "params = {\n",
    "    \"Du\": 0.16,\n",
    "    \"Dv\": 0.08,\n",
    "    \"F\": 0.062,\n",
    "    \"k\": 0.061,\n",
    "    \"grid_size\": 200,\n",
    "    \"dt\": 1.0\n",
    "}\n",
    "\n",
    "response = requests.post(\"http://localhost:8000/gray-scott/solve/crank_nicolson?steps=100\", json=params)\n",
    "result = response.json()\n",
    "\n",
    "plt.figure(figsize=(12, 6))\n",
    "plt.subplot(121)\n",
    "plt.imshow(result[\"U\"], cmap=\"viridis\")\n",
    "plt.colorbar()\n",
    "\n",
    "plt.tight_layout()\n",
    "plt.show()"
   ]
  },
  {
   "cell_type": "code",
   "execution_count": null,
   "id": "6a41b3fa",
   "metadata": {},
   "outputs": [],
   "source": []
  }
 ],
 "metadata": {
  "kernelspec": {
   "display_name": "jax",
   "language": "python",
   "name": "python3"
  },
  "language_info": {
   "codemirror_mode": {
    "name": "ipython",
    "version": 3
   },
   "file_extension": ".py",
   "mimetype": "text/x-python",
   "name": "python",
   "nbconvert_exporter": "python",
   "pygments_lexer": "ipython3",
   "version": "3.11.11"
  }
 },
 "nbformat": 4,
 "nbformat_minor": 5
}
